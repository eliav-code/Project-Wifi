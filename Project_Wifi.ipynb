{
  "nbformat": 4,
  "nbformat_minor": 0,
  "metadata": {
    "colab": {
      "provenance": [],
      "include_colab_link": true
    },
    "kernelspec": {
      "name": "python3",
      "display_name": "Python 3"
    },
    "language_info": {
      "name": "python"
    }
  },
  "cells": [
    {
      "cell_type": "markdown",
      "metadata": {
        "id": "view-in-github",
        "colab_type": "text"
      },
      "source": [
        "<a href=\"https://colab.research.google.com/github/eliav-code/Project-Wifi/blob/main/Project_Wifi.ipynb\" target=\"_parent\"><img src=\"https://colab.research.google.com/assets/colab-badge.svg\" alt=\"Open In Colab\"/></a>"
      ]
    },
    {
      "cell_type": "code",
      "execution_count": 2,
      "metadata": {
        "id": "k46M9Kk0mokW"
      },
      "outputs": [],
      "source": [
        "import numpy as np\n",
        "import matplotlib.pyplot as plt\n",
        "from scipy.constants import epsilon_0"
      ]
    },
    {
      "cell_type": "code",
      "source": [
        "def Wall(minIndex, maxIndex, direction = 'None'):\n",
        "\n",
        "  '''\n",
        "\n",
        "  direction mite be only vertical or horizontal\n",
        "\n",
        "  '''\n",
        "  ConcretePermeability = 0.0000085 # H/m\n",
        "  ConcretePermittivity = 20*epsilon_0 # F/m\n",
        "  ConcreteConductivity = 0.1 # S/m\n",
        "\n",
        "  MildSteelpermeability = 0.0000045 # H/m\n",
        "  MildSteelPermittivity = 7.85*epsilon_0 # F/m\n",
        "  MildSteelConductivity =  100000 # S/m\n",
        "\n",
        "  xmin = 1; xmax = 1; ymin = 1\n",
        "  if direction == 'horizontal':\n",
        "    xmin = minIndex\n",
        "    xmax =\n"
      ],
      "metadata": {
        "id": "sFXL0Js9zoR3"
      },
      "execution_count": null,
      "outputs": []
    },
    {
      "cell_type": "code",
      "source": [
        "dx = 0.1 # in cm\n",
        "dy = 1.0*dx\n",
        "\n",
        "c = 1\n",
        "\n",
        "dt = dx/c\n"
      ],
      "metadata": {
        "id": "e2g_aSuQmtrp",
        "colab": {
          "base_uri": "https://localhost:8080/"
        },
        "outputId": "1992093c-bd40-4c40-f0b8-db63af4dc096"
      },
      "execution_count": 4,
      "outputs": [
        {
          "output_type": "execute_result",
          "data": {
            "text/plain": [
              "0.1"
            ]
          },
          "metadata": {},
          "execution_count": 4
        }
      ]
    },
    {
      "cell_type": "code",
      "source": [],
      "metadata": {
        "id": "pD9w-TmWs63h",
        "colab": {
          "base_uri": "https://localhost:8080/"
        },
        "outputId": "b99ac387-f00f-40a7-b1dc-f074afbcc2d7"
      },
      "execution_count": 5,
      "outputs": [
        {
          "output_type": "execute_result",
          "data": {
            "text/plain": [
              "range(1, 1)"
            ]
          },
          "metadata": {},
          "execution_count": 5
        }
      ]
    },
    {
      "cell_type": "code",
      "source": [],
      "metadata": {
        "id": "ewvRD-Pt4f3b"
      },
      "execution_count": null,
      "outputs": []
    }
  ]
}